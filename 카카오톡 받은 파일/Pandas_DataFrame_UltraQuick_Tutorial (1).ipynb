{
  "nbformat": 4,
  "nbformat_minor": 0,
  "metadata": {
    "colab": {
      "name": "Pandas DataFrame UltraQuick Tutorial.ipynb",
      "provenance": [],
      "private_outputs": true
    },
    "kernelspec": {
      "name": "python3",
      "display_name": "Python 3"
    }
  },
  "cells": [
    {
      "cell_type": "code",
      "source": [
        "from google.colab import files\n",
        "uploaded = files.upload()"
      ],
      "metadata": {
        "id": "DHsZ3Vp-0UF4"
      },
      "execution_count": null,
      "outputs": []
    },
    {
      "cell_type": "code",
      "source": [
        "uploaded[\"laptopPrice.csv\"].decode(\"utf-8\")"
      ],
      "metadata": {
        "id": "DzzV1zRb-ay7"
      },
      "execution_count": null,
      "outputs": []
    },
    {
      "cell_type": "code",
      "source": [
        "df = pd.read_csv(\"laptopPrice.csv\")"
      ],
      "metadata": {
        "id": "A3PKojjaAlVp"
      },
      "execution_count": null,
      "outputs": []
    },
    {
      "cell_type": "code",
      "source": [
        "import re\n",
        "import numpy as np\n",
        "import matplotlib.pyplot as plt\n",
        "\n",
        "# \"rating\" 열의 값을 숫자로 변환하는 함수\n",
        "def extract_numeric_rating(rating):\n",
        "    # 정규식을 사용하여 숫자만 추출\n",
        "    numeric_rating = re.findall(r'\\d+', str(rating))\n",
        "    # 추출된 숫자를 문자열로 결합 후 정수로 변환\n",
        "    return int(''.join(numeric_rating))\n",
        "\n",
        "# \"rating\" 열의 값을 문자열로 변환\n",
        "df['rating'] = df['rating'].astype(str)\n",
        "\n",
        "# \"rating\" 열의 값을 숫자로 변환\n",
        "df['rating'] = df['rating'].apply(extract_numeric_rating)\n",
        "\n",
        "# 가격을 범주화하여 \"price_category\" 열 추가\n",
        "df['price_category'] = pd.cut(df['Price'], bins=[0, 70000, 150000, np.inf], labels=['0~70000', '70000~150000', '150000~'])\n",
        "\n",
        "# 그래프 생성\n",
        "mean_ratings = df.groupby('price_category')['rating'].mean()\n",
        "mean_ratings.plot(kind='bar')\n",
        "plt.xlabel('Price Category')\n",
        "plt.ylabel('Average Rating')\n",
        "plt.title('Average Rating by Price Category')\n",
        "\n",
        "# 범주별 rating 평균값 표시\n",
        "for i, rating in enumerate(mean_ratings):\n",
        "    plt.text(i, rating, str(round(rating, 2)), ha='center', va='bottom')\n",
        "\n",
        "plt.show()\n"
      ],
      "metadata": {
        "id": "8yKMolndMChg"
      },
      "execution_count": null,
      "outputs": []
    }
  ]
}